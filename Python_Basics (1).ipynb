{
  "nbformat": 4,
  "nbformat_minor": 0,
  "metadata": {
    "colab": {
      "provenance": []
    },
    "kernelspec": {
      "name": "python3",
      "display_name": "Python 3"
    },
    "language_info": {
      "name": "python"
    }
  },
  "cells": [
    {
      "cell_type": "code",
      "execution_count": null,
      "metadata": {
        "id": "ICEyWnRaaObX"
      },
      "outputs": [],
      "source": []
    },
    {
      "cell_type": "markdown",
      "source": [
        "# Python Basics\n",
        "1. What is Python, and why is it popular\u001a\n",
        "  ->Python is a high-level interpreted programming language that is popular due to simplicity,flexibility,and versatility. It has a vast number of libraries and frameworks that make it suitable for various apllication,such as web development,data industry,widely used in industries.\n",
        "2. What is an interpreter in Python\u001a\n",
        "  ->In Python, an interpreter is a program that directly executes the source code,line by line,allows for rapid development and testing.\n",
        "3. What are pre-defined keywords in Python\u001a\n",
        "  ->Pre-defined keywords that hold a special meaning  and have specific purpose in python programming and cannot be used as variable names.\n",
        "4. Can keywords be used as variable names\u001a\n",
        " ->No,keywords cannot be used as varible name in python,as they are reserved for specific purposes.     \n",
        "5. What is mutability in Python\u001a\n",
        " ->Objects whose value state or value can be changed after they created are called as mutable object.\n",
        "6. Why are lists mutable, but tuples are immutable\u001a\n",
        " ->List are murtable because they are changing the elements and they allow modification such as adding or removing elements.\n",
        "   Tuples are immutable because they are intented to be static and unchanging.\n",
        "7.What is the difference between “==” and “is” operators in Python\u001a\n",
        " ->The \"==\" operator checks for equality value,while the \"is\" operator checks for equality in identity.\n",
        "8.  What are logical operators in Python\u001a\n",
        " -> Logical operators in Python are used to combine conditional statement and include:\n",
        " a)and\n",
        " b)or\n",
        " c)not\n",
        "9. What is type casting in Python\u001a\n",
        " -> The process of changing the data type of a value or object is called type casting.\n",
        "10. What is the difference between implicit and explicit type casting\u001a\n",
        " ->Implicit type casting in Python understand the data type and converts a variable data type without explicit instruction.\n",
        "   Explicit type casting in Python converting data type using inbuilt function\n",
        "   (str,int,float) and then change the variables.\n",
        "11. What is the purpose of conditional statements in Python\n",
        " ->The purpose of conditional statement in python are helps you to doing code decision based on some precondition and the preconditions are:\n",
        "  a)if\n",
        "  b)if-else\n",
        "  c)if-elif-else\n",
        "  d)Nested if-else.\n",
        "12.How does the elif statement work\u001a\n",
        " ->The elif statement is used to check another condition if the initial condition in the if statement is false.\n",
        "13. What is the difference between for and while loops\u001a\n",
        " ->for loop are used to iterate over a sequence of elements such as (string and list).\n",
        "   while loop are repeatedly executed a block of code until a condition is true and met.\n",
        "14.  Describe a scenario where a while loop is more suitable than a for loop.\n",
        "  -> A while loop is more suitable when you need to repeat a    task indefinitely or until a specific condition is met.\n",
        "  In these scenarios, a while loop provides more flexibility and control over the iteration propcess.                     \n",
        "\n",
        "\n",
        "\n",
        "\n",
        "\n",
        "\n",
        "\n",
        "\n",
        "\n",
        "   \n",
        "\n",
        "\n",
        "\n",
        "\n",
        "\n",
        "     \n",
        "      "
      ],
      "metadata": {
        "id": "XUGlEg5LaYF3"
      }
    },
    {
      "cell_type": "code",
      "source": [
        "#1 Write a Python program to print \"Hello, World!_\n",
        "print(\"hello world\")\n"
      ],
      "metadata": {
        "colab": {
          "base_uri": "https://localhost:8080/"
        },
        "id": "FY1IMng_ycOc",
        "outputId": "d887ec65-34c8-4db0-eeef-a552c3c8da16"
      },
      "execution_count": 1,
      "outputs": [
        {
          "output_type": "stream",
          "name": "stdout",
          "text": [
            "hello world\n"
          ]
        }
      ]
    },
    {
      "cell_type": "code",
      "source": [
        "#2. Write a Python program that displays your name and age\n",
        "name=\"Shivendra Pratap Singh\"\n",
        "age= 20\n",
        "print(f\"my name is{name} and I am {age} years old \")\n"
      ],
      "metadata": {
        "colab": {
          "base_uri": "https://localhost:8080/"
        },
        "id": "GeF2GlfQy-Jd",
        "outputId": "f19fa56d-deaa-4bc5-f8d2-84033e5996fd"
      },
      "execution_count": 2,
      "outputs": [
        {
          "output_type": "stream",
          "name": "stdout",
          "text": [
            "my name isShivendra Pratap Singh and I am 20 years old \n"
          ]
        }
      ]
    },
    {
      "cell_type": "code",
      "source": [
        "#3 Write code to print all the pre-defined keywords in Python using the keyword library\n",
        "help(\"keywords\")"
      ],
      "metadata": {
        "colab": {
          "base_uri": "https://localhost:8080/"
        },
        "id": "vfXx2AKd0e1z",
        "outputId": "3660b727-5eda-44ea-a5bf-7ef4dc020dda"
      },
      "execution_count": 3,
      "outputs": [
        {
          "output_type": "stream",
          "name": "stdout",
          "text": [
            "\n",
            "Here is a list of the Python keywords.  Enter any keyword to get more help.\n",
            "\n",
            "False               class               from                or\n",
            "None                continue            global              pass\n",
            "True                def                 if                  raise\n",
            "and                 del                 import              return\n",
            "as                  elif                in                  try\n",
            "assert              else                is                  while\n",
            "async               except              lambda              with\n",
            "await               finally             nonlocal            yield\n",
            "break               for                 not                 \n",
            "\n"
          ]
        }
      ]
    },
    {
      "cell_type": "code",
      "source": [
        "# Write a program that checks if a given word is a Python keyword\n",
        "word= input(\"Enter a word: \")\n",
        "if keyword.is keyword (word):\n",
        "  print(f\"'{word}' is a Python keyword.\")\n",
        "else:\n",
        "  print(f\"'{word}' is not a Python keyword.\")\n",
        "\n"
      ],
      "metadata": {
        "colab": {
          "base_uri": "https://localhost:8080/",
          "height": 106
        },
        "id": "1BkrVT7d1P1X",
        "outputId": "8d825bfe-5c84-478f-e241-614386f7d298"
      },
      "execution_count": 4,
      "outputs": [
        {
          "output_type": "error",
          "ename": "SyntaxError",
          "evalue": "invalid syntax (<ipython-input-4-3b0a2219a665>, line 3)",
          "traceback": [
            "\u001b[0;36m  File \u001b[0;32m\"<ipython-input-4-3b0a2219a665>\"\u001b[0;36m, line \u001b[0;32m3\u001b[0m\n\u001b[0;31m    if keyword.is keyword (word):\u001b[0m\n\u001b[0m               ^\u001b[0m\n\u001b[0;31mSyntaxError\u001b[0m\u001b[0;31m:\u001b[0m invalid syntax\n"
          ]
        }
      ]
    },
    {
      "cell_type": "code",
      "source": [
        "#4 Write a program that checks if a given word is a Python keyword\n",
        "import keyword\n",
        "\n",
        "word= input(\"Enter a word: \")\n",
        "if keyword.iskeyword(word):\n",
        "  print(f\"'{word}' is a Python keyword.\")\n",
        "else:\n",
        "  print(f\"'{word}' is not a Python keyword.\")"
      ],
      "metadata": {
        "colab": {
          "base_uri": "https://localhost:8080/",
          "height": 228
        },
        "id": "Q0v9tmHu3OXO",
        "outputId": "054e582a-f4ae-4ac7-ce89-8dfccfc06f2b"
      },
      "execution_count": 8,
      "outputs": [
        {
          "name": "stdout",
          "output_type": "stream",
          "text": [
            "Enter a word: class\n"
          ]
        },
        {
          "output_type": "error",
          "ename": "NameError",
          "evalue": "name 'keyword' is not defined",
          "traceback": [
            "\u001b[0;31m---------------------------------------------------------------------------\u001b[0m",
            "\u001b[0;31mNameError\u001b[0m                                 Traceback (most recent call last)",
            "\u001b[0;32m<ipython-input-8-0a02b410e3cf>\u001b[0m in \u001b[0;36m<cell line: 3>\u001b[0;34m()\u001b[0m\n\u001b[1;32m      1\u001b[0m \u001b[0;31m# Write a program that checks if a given word is a Python keyword\u001b[0m\u001b[0;34m\u001b[0m\u001b[0;34m\u001b[0m\u001b[0m\n\u001b[1;32m      2\u001b[0m \u001b[0mword\u001b[0m\u001b[0;34m=\u001b[0m \u001b[0minput\u001b[0m\u001b[0;34m(\u001b[0m\u001b[0;34m\"Enter a word: \"\u001b[0m\u001b[0;34m)\u001b[0m\u001b[0;34m\u001b[0m\u001b[0;34m\u001b[0m\u001b[0m\n\u001b[0;32m----> 3\u001b[0;31m \u001b[0;32mif\u001b[0m \u001b[0mkeyword\u001b[0m\u001b[0;34m.\u001b[0m\u001b[0miskeyword\u001b[0m\u001b[0;34m(\u001b[0m\u001b[0mword\u001b[0m\u001b[0;34m)\u001b[0m\u001b[0;34m:\u001b[0m\u001b[0;34m\u001b[0m\u001b[0;34m\u001b[0m\u001b[0m\n\u001b[0m\u001b[1;32m      4\u001b[0m   \u001b[0mprint\u001b[0m\u001b[0;34m(\u001b[0m\u001b[0;34mf\"'{word}' is a Python keyword.\"\u001b[0m\u001b[0;34m)\u001b[0m\u001b[0;34m\u001b[0m\u001b[0;34m\u001b[0m\u001b[0m\n\u001b[1;32m      5\u001b[0m \u001b[0;32melse\u001b[0m\u001b[0;34m:\u001b[0m\u001b[0;34m\u001b[0m\u001b[0;34m\u001b[0m\u001b[0m\n",
            "\u001b[0;31mNameError\u001b[0m: name 'keyword' is not defined"
          ]
        }
      ]
    },
    {
      "cell_type": "code",
      "source": [
        "#5 Create a list and tuple in Python, and demonstrate how attempting to change an element works differently for each\n",
        "my_list=[1,2,3]\n",
        "my_tuple=(1,2,3)\n",
        "my_list[0]=10\n",
        "print(my_list)\n",
        "print(my_tuple)"
      ],
      "metadata": {
        "colab": {
          "base_uri": "https://localhost:8080/"
        },
        "id": "v3vQN21732mS",
        "outputId": "282a4bcb-5a0e-418f-e01c-c477e41fed65"
      },
      "execution_count": 9,
      "outputs": [
        {
          "output_type": "stream",
          "name": "stdout",
          "text": [
            "[10, 2, 3]\n",
            "(1, 2, 3)\n"
          ]
        }
      ]
    },
    {
      "cell_type": "code",
      "source": [
        "#6 Write a function to demonstrate the behavior of mutable and immutable arguments\n",
        "def change_list(my_list):\n",
        "  my_list.append(4)\n",
        "  print(\"Inside function:\",my_list)\n",
        "def change_string(my_string):\n",
        "  my_string += \"world\"\n",
        "  print(\"Inside function:\",my_string)\n",
        "\n",
        "my_list=[1,2,3]\n",
        "change_list(my_list)\n",
        "print(\"outside function:\", my_list)\n",
        "my_string=\"hello\"\n",
        "change_string(my_string)\n",
        "print(\"Outside function:\",my_string)"
      ],
      "metadata": {
        "colab": {
          "base_uri": "https://localhost:8080/"
        },
        "id": "G8PLrVIT7K2P",
        "outputId": "2578bc19-926e-41a5-89fb-2fb0ea92dd2d"
      },
      "execution_count": 12,
      "outputs": [
        {
          "output_type": "stream",
          "name": "stdout",
          "text": [
            "Inside function: [1, 2, 3, 4]\n",
            "outside function: [1, 2, 3, 4]\n",
            "Inside function: helloworld\n",
            "Outside function: hello\n"
          ]
        }
      ]
    },
    {
      "cell_type": "code",
      "source": [
        "#7 Write a function to demonstrate the behavior of mutable and immutable arguments\n",
        "# the question 6 and question 7 is same\n",
        "def change_list(my_list):\n",
        "  my_list.append(4)\n",
        "  print(\"Inside function:\",my_list)\n",
        "def change_string(my_string):\n",
        "  my_string += \"world\"\n",
        "  print(\"Inside function:\",my_string)\n",
        "\n",
        "my_list=[1,2,3]\n",
        "change_list(my_list)\n",
        "print(\"outside function:\", my_list)\n",
        "my_string=\"hello\"\n",
        "change_string(my_string)\n",
        "print(\"Outside function:\",my_string)\n",
        "\n"
      ],
      "metadata": {
        "colab": {
          "base_uri": "https://localhost:8080/"
        },
        "id": "kC4Yk62l9NYK",
        "outputId": "4096bac6-c3e1-426e-fe73-edc076e8f10d"
      },
      "execution_count": 13,
      "outputs": [
        {
          "output_type": "stream",
          "name": "stdout",
          "text": [
            "Inside function: [1, 2, 3, 4]\n",
            "outside function: [1, 2, 3, 4]\n",
            "Inside function: helloworld\n",
            "Outside function: hello\n"
          ]
        }
      ]
    },
    {
      "cell_type": "code",
      "source": [
        "#8 Write a program to demonstrate the use of logical operators\n",
        "a= True\n",
        "b= False\n",
        "print(a and b)\n",
        "print(a or b)\n",
        "print(not a)"
      ],
      "metadata": {
        "colab": {
          "base_uri": "https://localhost:8080/"
        },
        "id": "LqKtbcPhBC_n",
        "outputId": "e2bddf28-1679-41c4-d695-a9984d881d24"
      },
      "execution_count": 14,
      "outputs": [
        {
          "output_type": "stream",
          "name": "stdout",
          "text": [
            "False\n",
            "True\n",
            "False\n"
          ]
        }
      ]
    },
    {
      "cell_type": "code",
      "source": [
        "#9 Write a Python program to convert user input from string to integer, float, and boolean types\n",
        "user_input = input(\"Enter a value\")\n",
        "print(int(user_input))\n",
        "print(float(user_input))\n",
        "print(bool(user_input))\n",
        "\n"
      ],
      "metadata": {
        "colab": {
          "base_uri": "https://localhost:8080/"
        },
        "id": "W7g0meSoAH0u",
        "outputId": "97591861-d23f-436b-ea1f-b7bf4b66bd32"
      },
      "execution_count": 17,
      "outputs": [
        {
          "output_type": "stream",
          "name": "stdout",
          "text": [
            "Enter a value2\n",
            "2\n",
            "2.0\n",
            "True\n"
          ]
        }
      ]
    },
    {
      "cell_type": "code",
      "source": [
        "#10 Write code to demonstrate type casting with list elements\n",
        "user_list = [1,2,3,\"4\",\"5\"]\n",
        "print([int(i)for i in my_list])\n",
        "print([str(i)for i in my_list])\n",
        "print([float(i)for i in my_list])"
      ],
      "metadata": {
        "colab": {
          "base_uri": "https://localhost:8080/"
        },
        "id": "L-yHziBsCo42",
        "outputId": "f1003ae7-2948-4ab8-91ff-3c3b778d44c4"
      },
      "execution_count": 18,
      "outputs": [
        {
          "output_type": "stream",
          "name": "stdout",
          "text": [
            "[1, 2, 3, 4]\n",
            "['1', '2', '3', '4']\n",
            "[1.0, 2.0, 3.0, 4.0]\n"
          ]
        }
      ]
    },
    {
      "cell_type": "code",
      "source": [
        "#11 Write a program that checks if a number is positive, negative, or zero\n",
        "num= int(input(\"enter a number\"))\n",
        "if num > 0:\n",
        "  print(\"Positive\")\n",
        "elif num < 0:\n",
        "  print(\"Negative\")\n",
        "else:\n",
        "    print(\"Zero\")\n",
        ""
      ],
      "metadata": {
        "colab": {
          "base_uri": "https://localhost:8080/"
        },
        "id": "SgQVegxyE0NY",
        "outputId": "468f85b5-f741-4c1b-e7fa-76a3e02a5068"
      },
      "execution_count": 20,
      "outputs": [
        {
          "output_type": "stream",
          "name": "stdout",
          "text": [
            "enter a number5\n",
            "Positive\n"
          ]
        }
      ]
    },
    {
      "cell_type": "code",
      "source": [
        "#12 Write a for loop to print numbers from 1 to 10\n",
        "for i in range(1, 10):\n",
        "  print(i)"
      ],
      "metadata": {
        "colab": {
          "base_uri": "https://localhost:8080/"
        },
        "id": "5h7vJOGyGLBU",
        "outputId": "f85722ca-8d22-4591-edcd-4a085f252f00"
      },
      "execution_count": 22,
      "outputs": [
        {
          "output_type": "stream",
          "name": "stdout",
          "text": [
            "1\n",
            "2\n",
            "3\n",
            "4\n",
            "5\n",
            "6\n",
            "7\n",
            "8\n",
            "9\n"
          ]
        }
      ]
    },
    {
      "cell_type": "code",
      "source": [
        "#13 Write a Python program to find the sum of all even numbers between 1 and 50\n",
        "sum_even = sum(i for i in range(1, 50)if i % 2 == 0)\n",
        "print(sum_even)"
      ],
      "metadata": {
        "colab": {
          "base_uri": "https://localhost:8080/"
        },
        "id": "IgWKLffrGs7p",
        "outputId": "d6052e13-91df-411e-8f2d-f45ef473d58b"
      },
      "execution_count": 23,
      "outputs": [
        {
          "output_type": "stream",
          "name": "stdout",
          "text": [
            "600\n"
          ]
        }
      ]
    },
    {
      "cell_type": "code",
      "source": [
        "#14 Write a program to reverse a string using a while loop\n",
        "my_string = \"hello\"\n",
        "reversed_string = \"\"\n",
        "i = len(my_string) - 1\n",
        "while i >= 0:\n",
        "  reversed_string += my_string[i]\n",
        "  i -= 1\n",
        "  print(reversed_string)"
      ],
      "metadata": {
        "colab": {
          "base_uri": "https://localhost:8080/"
        },
        "id": "dxyRXMd_HkHr",
        "outputId": "cef2f16e-4ab3-43db-f691-0eeda0cf32e8"
      },
      "execution_count": 24,
      "outputs": [
        {
          "output_type": "stream",
          "name": "stdout",
          "text": [
            "o\n",
            "ol\n",
            "oll\n",
            "olle\n",
            "olleh\n"
          ]
        }
      ]
    },
    {
      "cell_type": "code",
      "source": [
        "#15 Write a Python program to calculate the factorial of a number provided by the user using a while loop\n",
        "num = int(input(\"Enter a number:\"))\n",
        "factorial = 1\n",
        "i = 1\n",
        "while i <= num:\n",
        "  factorial *= i\n",
        "  i += 1\n",
        "  print(factorial)"
      ],
      "metadata": {
        "colab": {
          "base_uri": "https://localhost:8080/"
        },
        "id": "l6b9kHBQIjqw",
        "outputId": "b3c853f6-8327-4088-edb4-e6d68d06764f"
      },
      "execution_count": 25,
      "outputs": [
        {
          "name": "stdout",
          "output_type": "stream",
          "text": [
            "Enter a number:0\n"
          ]
        }
      ]
    },
    {
      "cell_type": "code",
      "source": [],
      "metadata": {
        "id": "A-aO6arJJx7F"
      },
      "execution_count": null,
      "outputs": []
    }
  ]
}